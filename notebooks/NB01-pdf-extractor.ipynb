{
 "cells": [
  {
   "cell_type": "markdown",
   "metadata": {},
   "source": [
    "Add a nice first Markdown cell here"
   ]
  },
  {
   "cell_type": "code",
   "execution_count": 7,
   "metadata": {},
   "outputs": [],
   "source": [
    "import os\n",
    "import glob\n",
    "\n",
    "from tqdm.notebook import tqdm\n",
    "\n",
    "from utils import extract_text_data_from_pdf"
   ]
  },
  {
   "cell_type": "markdown",
   "metadata": {},
   "source": [
    "# 1. Identify all PDF files"
   ]
  },
  {
   "cell_type": "code",
   "execution_count": 2,
   "metadata": {},
   "outputs": [],
   "source": [
    "# Read all files\n",
    "\n",
    "# Glob all files under ../data/pdfs/\n",
    "\n",
    "files = glob.glob('../data/pdfs/*')"
   ]
  },
  {
   "cell_type": "markdown",
   "metadata": {},
   "source": [
    "## 2. Parse PDFs\n",
    "\n"
   ]
  },
  {
   "cell_type": "code",
   "execution_count": 8,
   "metadata": {},
   "outputs": [
    {
     "data": {
      "application/vnd.jupyter.widget-view+json": {
       "model_id": "f4d2e4fd04304876a573a0ef00e7b7c5",
       "version_major": 2,
       "version_minor": 0
      },
      "text/plain": [
       "  0%|          | 0/4 [00:00<?, ?it/s]"
      ]
     },
     "metadata": {},
     "output_type": "display_data"
    },
    {
     "name": "stderr",
     "output_type": "stream",
     "text": [
      "Using starter code. Either edit this function or remove this warning if you are happy with the current implementation.\n",
      "Using starter code. Either edit this function or remove this warning if you are happy with the current implementation.\n",
      "Using starter code. Either edit this function or remove this warning if you are happy with the current implementation.\n",
      "Using starter code. Either edit this function or remove this warning if you are happy with the current implementation.\n"
     ]
    }
   ],
   "source": [
    "# TODO: You might want to do this in batches if you have too many files, or it will take a long time.\n",
    "doc_text = {os.path.basename(file): extract_text_data_from_pdf(file, unstructured_strategy=\"fast\") \n",
    "            for file in tqdm(files)}\n"
   ]
  },
  {
   "cell_type": "markdown",
   "metadata": {},
   "source": [
    "Note that our helpful function already collects a lot of metadata about each chunk of PDF:\n",
    "\n"
   ]
  },
  {
   "cell_type": "code",
   "execution_count": 12,
   "metadata": {},
   "outputs": [
    {
     "data": {
      "text/plain": [
       "['cuba_spanish_20250201.pdf',\n",
       " 'maldives_english_20250201.pdf',\n",
       " 'zambia_english_20250301.pdf',\n",
       " 'montenegro_english_20250201.pdf']"
      ]
     },
     "execution_count": 12,
     "metadata": {},
     "output_type": "execute_result"
    }
   ],
   "source": [
    "list(doc_text.keys())"
   ]
  },
  {
   "cell_type": "code",
   "execution_count": 13,
   "metadata": {},
   "outputs": [
    {
     "data": {
      "text/plain": [
       "{'id': 0,\n",
       " 'type': 'Title',\n",
       " 'text': 'República de Cuba',\n",
       " 'metadata': {'page_number': 1,\n",
       "  'coordinates': CoordinatesMetadata(points=((192.127, 238.42984), (192.127, 269.02084), (418.98985600000003, 269.02084), (418.98985600000003, 238.42984)), system=<unstructured.documents.coordinates.PixelSpace object at 0x32d4b8050>),\n",
       "  'file_directory': '../data/pdfs',\n",
       "  'filename': 'cuba_spanish_20250201.pdf',\n",
       "  'languages': ['eng'],\n",
       "  'last_modified': '2025-03-11T15:38:08',\n",
       "  'links': [],\n",
       "  '_known_field_names': frozenset({'attached_to_filename',\n",
       "             'category_depth',\n",
       "             'coordinates',\n",
       "             'data_source',\n",
       "             'detection_class_prob',\n",
       "             'detection_origin',\n",
       "             'emphasized_text_contents',\n",
       "             'emphasized_text_tags',\n",
       "             'file_directory',\n",
       "             'filename',\n",
       "             'filetype',\n",
       "             'header_footer_type',\n",
       "             'image_path',\n",
       "             'is_continuation',\n",
       "             'languages',\n",
       "             'last_modified',\n",
       "             'link_texts',\n",
       "             'link_urls',\n",
       "             'links',\n",
       "             'page_name',\n",
       "             'page_number',\n",
       "             'parent_id',\n",
       "             'regex_metadata',\n",
       "             'section',\n",
       "             'sent_from',\n",
       "             'sent_to',\n",
       "             'subject',\n",
       "             'text_as_html',\n",
       "             'url'}),\n",
       "  'filetype': 'application/pdf'}}"
      ]
     },
     "execution_count": 13,
     "metadata": {},
     "output_type": "execute_result"
    }
   ],
   "source": [
    "doc_text['cuba_spanish_20250201.pdf'][0]"
   ]
  },
  {
   "cell_type": "markdown",
   "metadata": {},
   "source": [
    "Now it's up to you..."
   ]
  }
 ],
 "metadata": {
  "kernelspec": {
   "display_name": "venv",
   "language": "python",
   "name": "python3"
  },
  "language_info": {
   "codemirror_mode": {
    "name": "ipython",
    "version": 3
   },
   "file_extension": ".py",
   "mimetype": "text/x-python",
   "name": "python",
   "nbconvert_exporter": "python",
   "pygments_lexer": "ipython3",
   "version": "3.12.2"
  }
 },
 "nbformat": 4,
 "nbformat_minor": 4
}
